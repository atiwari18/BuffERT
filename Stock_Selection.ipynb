{
 "cells": [
  {
   "cell_type": "code",
   "execution_count": null,
   "id": "c1aeafe4",
   "metadata": {},
   "outputs": [
    {
     "name": "stdout",
     "output_type": "stream",
     "text": [
      "YF.download() has changed argument auto_adjust default to True\n"
     ]
    },
    {
     "name": "stderr",
     "output_type": "stream",
     "text": [
      "[*********************100%***********************]  503 of 503 completed\n",
      "\n",
      "2 Failed downloads:\n",
      "['BF.B']: YFPricesMissingError('possibly delisted; no price data found  (period=2y)')\n",
      "['BRK.B']: YFPricesMissingError('possibly delisted; no price data found  (period=2y) (Yahoo error = \"No data found, symbol may be delisted\")')\n",
      "C:\\Users\\kober\\AppData\\Local\\Temp\\ipykernel_15892\\2050643408.py:14: FutureWarning: The default fill_method='pad' in Series.pct_change is deprecated and will be removed in a future version. Either fill in any non-leading NA values prior to calling pct_change or specify 'fill_method=None' to not fill NA values.\n",
      "  returns = prices.pct_change().dropna()\n"
     ]
    },
    {
     "name": "stdout",
     "output_type": "stream",
     "text": [
      "     Trend Type\n",
      "A        steady\n",
      "AAPL     steady\n",
      "ABBV   variable\n",
      "ABNB   variable\n",
      "ABT      steady\n",
      "...         ...\n",
      "XYL    variable\n",
      "YUM    variable\n",
      "ZBH      steady\n",
      "ZBRA     steady\n",
      "ZTS    variable\n",
      "\n",
      "[503 rows x 1 columns]\n"
     ]
    }
   ],
   "source": [
    "# Load S&P 500 tickers\n",
    "import pandas as pd\n",
    "\n",
    "sp500_url = 'https://en.wikipedia.org/wiki/List_of_S%26P_500_companies'\n",
    "sp500_table = pd.read_html(sp500_url)[0]\n",
    "tickers = sp500_table['Symbol'].tolist()\n",
    "\n",
    "# Download 2 years of close price data\n",
    "import yfinance as yf\n",
    "data = yf.download(tickers, period='2y', interval='1d')['Close']\n",
    "\n",
    "# Classify each stock into trend types (reusing earlier function)\n",
    "def classify_stock(prices):\n",
    "    returns = prices.pct_change().dropna()\n",
    "    volatility = returns.std()\n",
    "    total_return = (prices.iloc[-1] - prices.iloc[0]) / prices.iloc[0]\n",
    "    \n",
    "    if abs(total_return) < 0.05 and volatility < 0.02:\n",
    "        return 'stagnant'\n",
    "    elif abs(total_return) > 0.2 and volatility < 0.03:\n",
    "        return 'steady'\n",
    "    else:\n",
    "        return 'variable'\n",
    "\n",
    "stock_classification = {}\n",
    "for ticker in data.columns:\n",
    "    trend_type = classify_stock(data[ticker])\n",
    "    stock_classification[ticker] = trend_type\n",
    "\n",
    "classification_df = pd.DataFrame.from_dict(stock_classification, orient='index', columns=['Trend Type'])\n",
    "print(classification_df)"
   ]
  },
  {
   "cell_type": "markdown",
   "id": "c6d97df8",
   "metadata": {},
   "source": [
    "## Picking 5 most popular stocks from each trend type"
   ]
  },
  {
   "cell_type": "code",
   "execution_count": 2,
   "id": "2c9418a5",
   "metadata": {},
   "outputs": [
    {
     "name": "stdout",
     "output_type": "stream",
     "text": [
      "Top 5 popular steady stocks: ['AAPL', 'MSFT', 'GOOG', 'GOOGL', 'AMZN']\n"
     ]
    },
    {
     "name": "stderr",
     "output_type": "stream",
     "text": [
      "401 Client Error: Unauthorized for url: https://query2.finance.yahoo.com/v10/finance/quoteSummary/XEL?modules=financialData%2CquoteType%2CdefaultKeyStatistics%2CassetProfile%2CsummaryDetail&corsDomain=finance.yahoo.com&formatted=false&symbol=XEL&crumb=Edge%3A+Too+Many+Requests\n"
     ]
    },
    {
     "name": "stdout",
     "output_type": "stream",
     "text": [
      "Top 5 popular variable stocks: ['ABBV', 'ADBE', 'ADI', 'ABNB', 'ZTS']\n",
      "Top 5 popular stagnant stocks: ['XOM', 'JNJ', 'ACN', 'CMCSA', 'LMT']\n"
     ]
    }
   ],
   "source": [
    "import yfinance as yf\n",
    "\n",
    "def get_popularity_info(ticker):\n",
    "    try:\n",
    "        stock = yf.Ticker(ticker)\n",
    "        info = stock.info\n",
    "        return {\n",
    "            'Ticker': ticker,\n",
    "            'Market Cap': info.get('marketCap', 0),\n",
    "            'Avg Volume': info.get('averageVolume', 0)\n",
    "        }\n",
    "    except:\n",
    "        return {\n",
    "            'Ticker': ticker,\n",
    "            'Market Cap': 0,\n",
    "            'Avg Volume': 0\n",
    "        }\n",
    "\n",
    "\n",
    "# Filter steady stocks, get their popularity info\n",
    "steady_stocks = classification_df[classification_df['Trend Type'] == 'steady'].index.tolist()\n",
    "popularity_data = [get_popularity_info(ticker) for ticker in steady_stocks]\n",
    "popularity_df = pd.DataFrame(popularity_data)\n",
    "\n",
    "top_steady = popularity_df.sort_values(by='Market Cap', ascending=False).head(5)['Ticker'].tolist()\n",
    "print(\"Top 5 popular steady stocks:\", top_steady)\n",
    "\n",
    "\n",
    "# Filter steady stocks, get their popularity info\n",
    "variable_stocks = classification_df[classification_df['Trend Type'] == 'variable'].index.tolist()\n",
    "popularity_data = [get_popularity_info(ticker) for ticker in variable_stocks]\n",
    "popularity_df = pd.DataFrame(popularity_data)\n",
    "\n",
    "top_variable = popularity_df.sort_values(by='Market Cap', ascending=False).head(5)['Ticker'].tolist()\n",
    "print(\"Top 5 popular variable stocks:\", top_variable)\n",
    "\n",
    "\n",
    "# Filter steady stocks, get their popularity info\n",
    "stagnant_stocks = classification_df[classification_df['Trend Type'] == 'stagnant'].index.tolist()\n",
    "popularity_data = [get_popularity_info(ticker) for ticker in stagnant_stocks]\n",
    "popularity_df = pd.DataFrame(popularity_data)\n",
    "\n",
    "top_stagnant = popularity_df.sort_values(by='Market Cap', ascending=False).head(5)['Ticker'].tolist()\n",
    "print(\"Top 5 popular stagnant stocks:\", top_stagnant)"
   ]
  },
  {
   "cell_type": "markdown",
   "id": "53f34e83",
   "metadata": {},
   "source": [
    "## Picking 5 random stocks from each trend type"
   ]
  },
  {
   "cell_type": "code",
   "execution_count": 3,
   "id": "0ea37db2",
   "metadata": {},
   "outputs": [
    {
     "name": "stdout",
     "output_type": "stream",
     "text": [
      "Selected tickers:\n",
      "['NXPI', 'OMC', 'UHS', 'FE', 'MPC', 'XOM', 'EG', 'MDT', 'PFG', 'EXPD', 'MAR', 'IRM', 'FI', 'NEM', 'CME']\n"
     ]
    }
   ],
   "source": [
    "# Set number of stocks you want from each trend type\n",
    "n_variable = 5\n",
    "n_stagnant = 5\n",
    "n_steady = 5\n",
    "\n",
    "# Sample stocks\n",
    "sampled_variable = classification_df[classification_df['Trend Type'] == 'variable'].sample(n=n_variable, random_state=42)\n",
    "sampled_stagnant = classification_df[classification_df['Trend Type'] == 'stagnant'].sample(n=n_stagnant, random_state=42)\n",
    "sampled_steady = classification_df[classification_df['Trend Type'] == 'steady'].sample(n=n_steady, random_state=42)\n",
    "\n",
    "# Combine\n",
    "final_selection = pd.concat([sampled_variable, sampled_stagnant, sampled_steady])\n",
    "\n",
    "# List of selected tickers\n",
    "selected_tickers = final_selection.index.tolist()\n",
    "\n",
    "print(\"Selected tickers:\")\n",
    "print(selected_tickers)"
   ]
  }
 ],
 "metadata": {
  "kernelspec": {
   "display_name": "Python 3",
   "language": "python",
   "name": "python3"
  },
  "language_info": {
   "codemirror_mode": {
    "name": "ipython",
    "version": 3
   },
   "file_extension": ".py",
   "mimetype": "text/x-python",
   "name": "python",
   "nbconvert_exporter": "python",
   "pygments_lexer": "ipython3",
   "version": "3.9.5"
  }
 },
 "nbformat": 4,
 "nbformat_minor": 5
}
